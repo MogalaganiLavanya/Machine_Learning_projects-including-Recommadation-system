{
  "nbformat": 4,
  "nbformat_minor": 0,
  "metadata": {
    "colab": {
      "private_outputs": true,
      "provenance": [],
      "include_colab_link": true
    },
    "kernelspec": {
      "name": "python3",
      "display_name": "Python 3"
    },
    "language_info": {
      "name": "python"
    }
  },
  "cells": [
    {
      "cell_type": "markdown",
      "metadata": {
        "id": "view-in-github",
        "colab_type": "text"
      },
      "source": [
        "<a href=\"https://colab.research.google.com/github/MogalaganiLavanya/Machine_Learning_projects-including-Recommadation-system/blob/main/Mobile_Price_Prediction.ipynb\" target=\"_parent\"><img src=\"https://colab.research.google.com/assets/colab-badge.svg\" alt=\"Open In Colab\"/></a>"
      ]
    },
    {
      "cell_type": "markdown",
      "source": [
        "Importing Algorithms"
      ],
      "metadata": {
        "id": "221FJb1VKNTz"
      }
    },
    {
      "cell_type": "code",
      "execution_count": null,
      "metadata": {
        "id": "mt75Bd05_l37"
      },
      "outputs": [],
      "source": [
        "import numpy as np\n",
        "import pandas as pd\n",
        "from sklearn.tree import DecisionTreeRegressor\n",
        "from sklearn.ensemble import RandomForestRegressor\n",
        "from sklearn.linear_model import LogisticRegression\n",
        "from sklearn.model_selection import train_test_split\n",
        "import seaborn as sns"
      ]
    },
    {
      "cell_type": "markdown",
      "source": [
        "importing DataSet"
      ],
      "metadata": {
        "id": "U3yYBb4nKf4o"
      }
    },
    {
      "cell_type": "code",
      "source": [
        "df=pd.read_csv(\"/content/Cellphone.csv\")"
      ],
      "metadata": {
        "id": "oL4H5K25Bl52"
      },
      "execution_count": null,
      "outputs": []
    },
    {
      "cell_type": "code",
      "source": [
        "df.head()"
      ],
      "metadata": {
        "id": "WhsL5ei7BvG8"
      },
      "execution_count": null,
      "outputs": []
    },
    {
      "cell_type": "code",
      "source": [
        "df.tail()"
      ],
      "metadata": {
        "id": "DCMMmxOXB2iZ"
      },
      "execution_count": null,
      "outputs": []
    },
    {
      "cell_type": "code",
      "source": [
        "df.info()"
      ],
      "metadata": {
        "id": "-vn34ZbeB35k"
      },
      "execution_count": null,
      "outputs": []
    },
    {
      "cell_type": "code",
      "source": [
        "df.isnull()"
      ],
      "metadata": {
        "id": "kM2BdflcB5fN"
      },
      "execution_count": null,
      "outputs": []
    },
    {
      "cell_type": "code",
      "source": [
        "df.describe()"
      ],
      "metadata": {
        "id": "51ccvea2B8i1"
      },
      "execution_count": null,
      "outputs": []
    },
    {
      "cell_type": "code",
      "source": [
        "df.corr()"
      ],
      "metadata": {
        "id": "BQSXisoyCBEa"
      },
      "execution_count": null,
      "outputs": []
    },
    {
      "cell_type": "code",
      "source": [
        "sns.heatmap(df.corr(),annot = True, cmap=\"Blues\")"
      ],
      "metadata": {
        "id": "PonCYlrpCIy9"
      },
      "execution_count": null,
      "outputs": []
    },
    {
      "cell_type": "code",
      "source": [
        "df = df.drop(\"thickness\",axis=1)"
      ],
      "metadata": {
        "id": "hj2VtrruCVAO"
      },
      "execution_count": null,
      "outputs": []
    },
    {
      "cell_type": "code",
      "source": [
        "df = df.drop(\"Product_id\",axis=1)"
      ],
      "metadata": {
        "id": "r813kJHWIdPx"
      },
      "execution_count": null,
      "outputs": []
    },
    {
      "cell_type": "code",
      "source": [
        "df.corr()"
      ],
      "metadata": {
        "id": "wsrUtY3GCxej"
      },
      "execution_count": null,
      "outputs": []
    },
    {
      "cell_type": "code",
      "source": [
        "sns.heatmap(df.corr(),annot = True, cmap=\"Greens\")"
      ],
      "metadata": {
        "id": "nICgUfGhCzSm"
      },
      "execution_count": null,
      "outputs": []
    },
    {
      "cell_type": "code",
      "source": [
        "x = df.iloc[:,1:]"
      ],
      "metadata": {
        "id": "Jgbw5AmHDQ5V"
      },
      "execution_count": null,
      "outputs": []
    },
    {
      "cell_type": "code",
      "source": [
        "x"
      ],
      "metadata": {
        "id": "44Tl9hMQDi5y"
      },
      "execution_count": null,
      "outputs": []
    },
    {
      "cell_type": "code",
      "source": [
        "y = df.iloc[:,:1]"
      ],
      "metadata": {
        "id": "30WEIdsQDjmp"
      },
      "execution_count": null,
      "outputs": []
    },
    {
      "cell_type": "code",
      "source": [
        "y"
      ],
      "metadata": {
        "id": "Dbcpr-pDDnaH"
      },
      "execution_count": null,
      "outputs": []
    },
    {
      "cell_type": "code",
      "source": [
        "x_train,x_test,y_train,y_test=train_test_split(x,y,test_size = 0.25, random_state = 42)"
      ],
      "metadata": {
        "id": "getmDjieEFjY"
      },
      "execution_count": null,
      "outputs": []
    },
    {
      "cell_type": "markdown",
      "source": [
        "RandomForestRegresso Model"
      ],
      "metadata": {
        "id": "PH6Ca1o_J4Cz"
      }
    },
    {
      "cell_type": "code",
      "source": [
        "rfr=RandomForestRegressor()"
      ],
      "metadata": {
        "id": "kx8FBGm2DoEk"
      },
      "execution_count": null,
      "outputs": []
    },
    {
      "cell_type": "code",
      "source": [
        "rfr.fit(x_train,y_train)"
      ],
      "metadata": {
        "id": "ImGcHx7eD7YT"
      },
      "execution_count": null,
      "outputs": []
    },
    {
      "cell_type": "code",
      "source": [
        "from sklearn.metrics import mean_squared_error,mean_absolute_error,r2_score"
      ],
      "metadata": {
        "id": "nXyvuX6MFiu5"
      },
      "execution_count": null,
      "outputs": []
    },
    {
      "cell_type": "code",
      "source": [
        "y_pred=rfr.predict(x_test)"
      ],
      "metadata": {
        "id": "qWu4zCc0HcxV"
      },
      "execution_count": null,
      "outputs": []
    },
    {
      "cell_type": "code",
      "source": [
        "mse= mean_squared_error(y_test,y_pred)\n",
        "mae= mean_absolute_error(y_test,y_pred)\n",
        "r2= r2_score(y_test,y_pred)"
      ],
      "metadata": {
        "id": "_E_ljBkFFl9i"
      },
      "execution_count": null,
      "outputs": []
    },
    {
      "cell_type": "code",
      "source": [
        "r2"
      ],
      "metadata": {
        "id": "cWuOA3XqFrxY"
      },
      "execution_count": null,
      "outputs": []
    },
    {
      "cell_type": "code",
      "source": [
        "x_train_predict=rfr.predict(x_train)"
      ],
      "metadata": {
        "id": "ufQC3wHdFx1v"
      },
      "execution_count": null,
      "outputs": []
    },
    {
      "cell_type": "code",
      "source": [
        "y_pred=rfr.predict(x_test)"
      ],
      "metadata": {
        "id": "A482OVrSEbhx"
      },
      "execution_count": null,
      "outputs": []
    },
    {
      "cell_type": "code",
      "source": [
        "from sklearn.metrics import confusion_matrix, accuracy_score, classification_report"
      ],
      "metadata": {
        "id": "_opCp2-4Ejki"
      },
      "execution_count": null,
      "outputs": []
    },
    {
      "cell_type": "markdown",
      "source": [
        "DecisionTreeRegressor Model"
      ],
      "metadata": {
        "id": "DF7UUnY7Jvl5"
      }
    },
    {
      "cell_type": "code",
      "source": [
        "dtr = DecisionTreeRegressor()"
      ],
      "metadata": {
        "id": "cvHmqbUUFJWF"
      },
      "execution_count": null,
      "outputs": []
    },
    {
      "cell_type": "code",
      "source": [
        "dtr.fit(x_train,y_train)"
      ],
      "metadata": {
        "id": "-eSqyN_nF74a"
      },
      "execution_count": null,
      "outputs": []
    },
    {
      "cell_type": "code",
      "source": [
        "from sklearn.metrics import mean_squared_error,mean_absolute_error,r2_score"
      ],
      "metadata": {
        "id": "jvHv399TGlAo"
      },
      "execution_count": null,
      "outputs": []
    },
    {
      "cell_type": "code",
      "source": [
        "mse= mean_squared_error(y_test,y_pred)\n",
        "mae= mean_absolute_error(y_test,y_pred)\n",
        "r2= r2_score(y_test,y_pred)"
      ],
      "metadata": {
        "id": "_2Ibmj-dGpq5"
      },
      "execution_count": null,
      "outputs": []
    },
    {
      "cell_type": "code",
      "source": [
        "r2"
      ],
      "metadata": {
        "id": "14CJg_AzGsKg"
      },
      "execution_count": null,
      "outputs": []
    },
    {
      "cell_type": "code",
      "source": [
        "x_train_predict=dtr.predict(x_train)"
      ],
      "metadata": {
        "id": "PvebgkHnGtjw"
      },
      "execution_count": null,
      "outputs": []
    },
    {
      "cell_type": "code",
      "source": [
        "from sklearn.metrics import confusion_matrix,accuracy_score,classification_report"
      ],
      "metadata": {
        "id": "T40Do7fkGvwV"
      },
      "execution_count": null,
      "outputs": []
    },
    {
      "cell_type": "code",
      "source": [
        "training_data_accuracy=accuracy_score(x_train_predict,y_train)"
      ],
      "metadata": {
        "id": "SUZuvqwmGzvK"
      },
      "execution_count": null,
      "outputs": []
    },
    {
      "cell_type": "markdown",
      "source": [
        "Accuracy of Training Data"
      ],
      "metadata": {
        "id": "1FMaWFhXJlZh"
      }
    },
    {
      "cell_type": "code",
      "source": [
        "training_data_accuracy"
      ],
      "metadata": {
        "id": "aWaSJnTRG5_9"
      },
      "execution_count": null,
      "outputs": []
    },
    {
      "cell_type": "code",
      "source": [
        "x_test_predict=dtr.predict(x_test)"
      ],
      "metadata": {
        "id": "WOYMtit2G-iO"
      },
      "execution_count": null,
      "outputs": []
    },
    {
      "cell_type": "code",
      "source": [
        "cf = confusion_matrix(y_test,x_test_predict)\n",
        "cf"
      ],
      "metadata": {
        "id": "1vkGUKZVHBPm"
      },
      "execution_count": null,
      "outputs": []
    },
    {
      "cell_type": "markdown",
      "source": [
        "Model Preparation\n"
      ],
      "metadata": {
        "id": "FUNk0bEuJKhJ"
      }
    },
    {
      "cell_type": "code",
      "source": [
        "input_data = (8809,150.0,5.50,401,8,2.200,64.0,4.000,20.00,20.0,3000)\n",
        "input_data_array = np.asarray(input_data)\n",
        "input_data_reshape = input_data_array.reshape(1,-1)\n",
        "predict = dtr.predict(input_data_reshape)\n",
        "predict"
      ],
      "metadata": {
        "id": "O-qbU1biHWr_"
      },
      "execution_count": null,
      "outputs": []
    },
    {
      "cell_type": "code",
      "source": [],
      "metadata": {
        "id": "4mtpazJPHp30"
      },
      "execution_count": null,
      "outputs": []
    }
  ]
}